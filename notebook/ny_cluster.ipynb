{
 "cells": [
  {
   "cell_type": "markdown",
   "id": "fc2e73f3-747f-4cce-886b-1c700fb74a4b",
   "metadata": {},
   "source": [
    "# Cluster \n",
    "\n",
    "1. Load in data for service providers.\n",
    "2. Perform preprocessing transformations.\n",
    "3. Perform kMeans cluster analysis."
   ]
  },
  {
   "cell_type": "code",
   "execution_count": null,
   "id": "1e4485e3-a4bb-414b-8e13-6c52765fbbd4",
   "metadata": {},
   "outputs": [],
   "source": []
  }
 ],
 "metadata": {
  "kernelspec": {
   "display_name": "Python 3",
   "language": "python",
   "name": "python3"
  },
  "language_info": {
   "codemirror_mode": {
    "name": "ipython",
    "version": 3
   },
   "file_extension": ".py",
   "mimetype": "text/x-python",
   "name": "python",
   "nbconvert_exporter": "python",
   "pygments_lexer": "ipython3",
   "version": "3.9.5"
  }
 },
 "nbformat": 4,
 "nbformat_minor": 5
}
