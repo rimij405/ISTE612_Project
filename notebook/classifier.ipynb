{
 "metadata": {
  "language_info": {
   "codemirror_mode": {
    "name": "ipython",
    "version": 3
   },
   "file_extension": ".py",
   "mimetype": "text/x-python",
   "name": "python",
   "nbconvert_exporter": "python",
   "pygments_lexer": "ipython3",
   "version": "3.8.10"
  },
  "orig_nbformat": 4,
  "kernelspec": {
   "name": "python3",
   "display_name": "Python 3.8.10 64-bit ('scrapy': conda)"
  },
  "interpreter": {
   "hash": "f6460262b255031ce3f5cd8b180b2cdd18f814c2513e4c169fa1b934731697ef"
  }
 },
 "nbformat": 4,
 "nbformat_minor": 2,
 "cells": [
  {
   "cell_type": "code",
   "execution_count": 1,
   "metadata": {},
   "outputs": [],
   "source": [
    "import pandas as pd\n"
   ]
  },
  {
   "cell_type": "code",
   "execution_count": 8,
   "metadata": {},
   "outputs": [],
   "source": [
    "\n",
    "dfs = {\n",
    "    'disability_category': pd.read_excel('./../data/edu.iste.disabilityresourcesearchengine.xlsx', sheet_name='disability_category'),\n",
    "    'service_category': pd.read_excel('./../data/edu.iste.disabilityresourcesearchengine.xlsx', sheet_name='service_category'),\n",
    "    'states': pd.read_excel('./../data/edu.iste.disabilityresourcesearchengine.xlsx', sheet_name='states'),\n",
    "    'zipcodes': pd.read_excel('./../data/edu.iste.disabilityresourcesearchengine.xlsx', sheet_name='zipcodes'),\n",
    "    'ca.serviceproviders': pd.read_excel('./../data/gov.ca.serviceproviders.xlsx', sheet_name='dss_service_providers'),\n",
    "} "
   ]
  },
  {
   "cell_type": "code",
   "execution_count": 3,
   "metadata": {},
   "outputs": [
    {
     "output_type": "stream",
     "name": "stdout",
     "text": [
      "<class 'pandas.core.frame.DataFrame'>\nRangeIndex: 7 entries, 0 to 6\nData columns (total 2 columns):\n #   Column               Non-Null Count  Dtype \n---  ------               --------------  ----- \n 0   disability_category  7 non-null      object\n 1   definition           7 non-null      object\ndtypes: object(2)\nmemory usage: 240.0+ bytes\n"
     ]
    }
   ],
   "source": [
    "\"\"\" EDA \"\"\"\n",
    "dfs['disability_category'].info()"
   ]
  },
  {
   "cell_type": "code",
   "execution_count": 4,
   "metadata": {},
   "outputs": [
    {
     "output_type": "stream",
     "name": "stdout",
     "text": [
      "<class 'pandas.core.frame.DataFrame'>\nRangeIndex: 7 entries, 0 to 6\nData columns (total 2 columns):\n #   Column       Non-Null Count  Dtype \n---  ------       --------------  ----- \n 0   category     7 non-null      object\n 1   description  7 non-null      object\ndtypes: object(2)\nmemory usage: 240.0+ bytes\n"
     ]
    }
   ],
   "source": [
    "\n",
    "dfs['service_category'].info()"
   ]
  },
  {
   "cell_type": "code",
   "execution_count": 5,
   "metadata": {},
   "outputs": [
    {
     "output_type": "stream",
     "name": "stdout",
     "text": [
      "<class 'pandas.core.frame.DataFrame'>\nRangeIndex: 52 entries, 0 to 51\nData columns (total 4 columns):\n #   Column      Non-Null Count  Dtype  \n---  ------      --------------  -----  \n 0   State       51 non-null     object \n 1   Abbrev      51 non-null     object \n 2   Code        51 non-null     object \n 3   Population  52 non-null     float64\ndtypes: float64(1), object(3)\nmemory usage: 1.8+ KB\n"
     ]
    }
   ],
   "source": [
    "\n",
    "dfs['states'].info()"
   ]
  },
  {
   "cell_type": "code",
   "execution_count": 6,
   "metadata": {},
   "outputs": [
    {
     "output_type": "stream",
     "name": "stdout",
     "text": [
      "<class 'pandas.core.frame.DataFrame'>\nRangeIndex: 500 entries, 0 to 499\nData columns (total 4 columns):\n #   Column      Non-Null Count  Dtype  \n---  ------      --------------  -----  \n 0   Zipcode     500 non-null    float64\n 1   City        500 non-null    object \n 2   County      500 non-null    object \n 3   Population  500 non-null    float64\ndtypes: float64(2), object(2)\nmemory usage: 15.8+ KB\n"
     ]
    }
   ],
   "source": [
    "\n",
    "dfs['zipcodes'].info()"
   ]
  },
  {
   "cell_type": "code",
   "execution_count": 9,
   "metadata": {},
   "outputs": [
    {
     "output_type": "stream",
     "name": "stdout",
     "text": [
      "<class 'pandas.core.frame.DataFrame'>\nRangeIndex: 1717 entries, 0 to 1716\nData columns (total 14 columns):\n #   Column     Non-Null Count  Dtype  \n---  ------     --------------  -----  \n 0   County     1717 non-null   object \n 1   Provider   1717 non-null   object \n 2   Address    1717 non-null   object \n 3   City       1717 non-null   object \n 4   State      1717 non-null   object \n 5   Zip        1717 non-null   object \n 6   Phone      1717 non-null   object \n 7   Website    1708 non-null   object \n 8   Category   1717 non-null   object \n 9   Type       1717 non-null   object \n 10  Services   1717 non-null   object \n 11  Latitude   1717 non-null   float64\n 12  Longitude  1717 non-null   float64\n 13  Location   1717 non-null   object \ndtypes: float64(2), object(12)\nmemory usage: 187.9+ KB\n"
     ]
    }
   ],
   "source": [
    "dfs['ca.serviceproviders'].info()"
   ]
  },
  {
   "cell_type": "code",
   "execution_count": 10,
   "metadata": {},
   "outputs": [
    {
     "output_type": "execute_result",
     "data": {
      "text/plain": [
       "    County                              Provider  \\\n",
       "0  Alameda  Oakland Community Action Partnership   \n",
       "1  Alameda  Oakland Community Action Partnership   \n",
       "2  Alameda  Oakland Community Action Partnership   \n",
       "3  Alameda  Oakland Community Action Partnership   \n",
       "4  Alameda  Oakland Community Action Partnership   \n",
       "\n",
       "                                          Address     City State      Zip  \\\n",
       "0  150 Frank H. Ogawa Plaza 4th Floor, Suite 4340  Oakland    CA  94612.0   \n",
       "1  150 Frank H. Ogawa Plaza 4th Floor, Suite 4340  Oakland    CA  94612.0   \n",
       "2  150 Frank H. Ogawa Plaza 4th Floor, Suite 4340  Oakland    CA  94612.0   \n",
       "3  150 Frank H. Ogawa Plaza 4th Floor, Suite 4340  Oakland    CA  94612.0   \n",
       "4  150 Frank H. Ogawa Plaza 4th Floor, Suite 4340  Oakland    CA  94612.0   \n",
       "\n",
       "            Phone           Website            Category                Type  \\\n",
       "0  (510) 238-2362  www.AC-OCAP.comÂ  Community Services  Community Services   \n",
       "1  (510) 238-2362  www.AC-OCAP.comÂ  Community Services  Community Services   \n",
       "2  (510) 238-2362  www.AC-OCAP.comÂ  Community Services  Community Services   \n",
       "3  (510) 238-2362  www.AC-OCAP.comÂ  Community Services  Community Services   \n",
       "4  (510) 238-2362  www.AC-OCAP.comÂ  Community Services  Community Services   \n",
       "\n",
       "               Services  Latitude  Longitude  \\\n",
       "0  Child/Youth Services  37.80529   -122.271   \n",
       "1    Education Services  37.80529   -122.271   \n",
       "2    Emergency Services  37.80529   -122.271   \n",
       "3   Employment Services  37.80529   -122.271   \n",
       "4       Health Services  37.80529   -122.271   \n",
       "\n",
       "                             Location  \n",
       "0  (37.805293900000002, -122.2711085)  \n",
       "1  (37.805293900000002, -122.2711085)  \n",
       "2  (37.805293900000002, -122.2711085)  \n",
       "3  (37.805293900000002, -122.2711085)  \n",
       "4  (37.805293900000002, -122.2711085)  "
      ],
      "text/html": "<div>\n<style scoped>\n    .dataframe tbody tr th:only-of-type {\n        vertical-align: middle;\n    }\n\n    .dataframe tbody tr th {\n        vertical-align: top;\n    }\n\n    .dataframe thead th {\n        text-align: right;\n    }\n</style>\n<table border=\"1\" class=\"dataframe\">\n  <thead>\n    <tr style=\"text-align: right;\">\n      <th></th>\n      <th>County</th>\n      <th>Provider</th>\n      <th>Address</th>\n      <th>City</th>\n      <th>State</th>\n      <th>Zip</th>\n      <th>Phone</th>\n      <th>Website</th>\n      <th>Category</th>\n      <th>Type</th>\n      <th>Services</th>\n      <th>Latitude</th>\n      <th>Longitude</th>\n      <th>Location</th>\n    </tr>\n  </thead>\n  <tbody>\n    <tr>\n      <th>0</th>\n      <td>Alameda</td>\n      <td>Oakland Community Action Partnership</td>\n      <td>150 Frank H. Ogawa Plaza 4th Floor, Suite 4340</td>\n      <td>Oakland</td>\n      <td>CA</td>\n      <td>94612.0</td>\n      <td>(510) 238-2362</td>\n      <td>www.AC-OCAP.comÂ</td>\n      <td>Community Services</td>\n      <td>Community Services</td>\n      <td>Child/Youth Services</td>\n      <td>37.80529</td>\n      <td>-122.271</td>\n      <td>(37.805293900000002, -122.2711085)</td>\n    </tr>\n    <tr>\n      <th>1</th>\n      <td>Alameda</td>\n      <td>Oakland Community Action Partnership</td>\n      <td>150 Frank H. Ogawa Plaza 4th Floor, Suite 4340</td>\n      <td>Oakland</td>\n      <td>CA</td>\n      <td>94612.0</td>\n      <td>(510) 238-2362</td>\n      <td>www.AC-OCAP.comÂ</td>\n      <td>Community Services</td>\n      <td>Community Services</td>\n      <td>Education Services</td>\n      <td>37.80529</td>\n      <td>-122.271</td>\n      <td>(37.805293900000002, -122.2711085)</td>\n    </tr>\n    <tr>\n      <th>2</th>\n      <td>Alameda</td>\n      <td>Oakland Community Action Partnership</td>\n      <td>150 Frank H. Ogawa Plaza 4th Floor, Suite 4340</td>\n      <td>Oakland</td>\n      <td>CA</td>\n      <td>94612.0</td>\n      <td>(510) 238-2362</td>\n      <td>www.AC-OCAP.comÂ</td>\n      <td>Community Services</td>\n      <td>Community Services</td>\n      <td>Emergency Services</td>\n      <td>37.80529</td>\n      <td>-122.271</td>\n      <td>(37.805293900000002, -122.2711085)</td>\n    </tr>\n    <tr>\n      <th>3</th>\n      <td>Alameda</td>\n      <td>Oakland Community Action Partnership</td>\n      <td>150 Frank H. Ogawa Plaza 4th Floor, Suite 4340</td>\n      <td>Oakland</td>\n      <td>CA</td>\n      <td>94612.0</td>\n      <td>(510) 238-2362</td>\n      <td>www.AC-OCAP.comÂ</td>\n      <td>Community Services</td>\n      <td>Community Services</td>\n      <td>Employment Services</td>\n      <td>37.80529</td>\n      <td>-122.271</td>\n      <td>(37.805293900000002, -122.2711085)</td>\n    </tr>\n    <tr>\n      <th>4</th>\n      <td>Alameda</td>\n      <td>Oakland Community Action Partnership</td>\n      <td>150 Frank H. Ogawa Plaza 4th Floor, Suite 4340</td>\n      <td>Oakland</td>\n      <td>CA</td>\n      <td>94612.0</td>\n      <td>(510) 238-2362</td>\n      <td>www.AC-OCAP.comÂ</td>\n      <td>Community Services</td>\n      <td>Community Services</td>\n      <td>Health Services</td>\n      <td>37.80529</td>\n      <td>-122.271</td>\n      <td>(37.805293900000002, -122.2711085)</td>\n    </tr>\n  </tbody>\n</table>\n</div>"
     },
     "metadata": {},
     "execution_count": 10
    }
   ],
   "source": [
    "dss_df = dfs['ca.serviceproviders']\n",
    "dss_df.head()"
   ]
  },
  {
   "cell_type": "code",
   "execution_count": null,
   "metadata": {},
   "outputs": [],
   "source": []
  }
 ]
}