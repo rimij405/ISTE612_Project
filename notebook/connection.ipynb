{
 "cells": [
  {
   "cell_type": "markdown",
   "metadata": {
    "tags": []
   },
   "source": [
    "# Connecting to MongoDB\n",
    "\n",
    "This notebook shows how one can connect to a MongoDB instance."
   ]
  },
  {
   "cell_type": "code",
   "execution_count": 1,
   "metadata": {},
   "outputs": [],
   "source": [
    "# Import system package.\n",
    "import sys, os\n",
    "import urllib.parse\n",
    "import datetime"
   ]
  },
  {
   "cell_type": "code",
   "execution_count": 1,
   "metadata": {},
   "outputs": [],
   "source": [
    "# Import pymongo\n",
    "try:\n",
    "    from pymongo import MongoClient\n",
    "except:\n",
    "    !{sys.executable} -m pip install pymongo\n",
    "    from pymongo import MongoClient\n",
    "\n",
    "# Import dotenv\n",
    "try:\n",
    "    from dotenv import dotenv_values\n",
    "except:\n",
    "    !{sys.executable} -m pip install \"python-dotenv\"\n",
    "    from dotenv import dotenv_values\n",
    "    \n",
    "# Import bson\n",
    "try:\n",
    "    from bson.objectid import ObjectId\n",
    "except:\n",
    "    !{sys.executable} -m pip install bson\n",
    "    from bson.objectid import ObjectId\n",
    "    \n",
    "# Import xlrd\n",
    "try:\n",
    "    import xlrd\n",
    "except:\n",
    "    !{sys.executable} -m pip install xlrd\n",
    "    \n",
    "# Import openpyxl\n",
    "try:\n",
    "    import openpyxl\n",
    "except:\n",
    "    !{sys.executable} -m pip install openpyxl"
   ]
  },
  {
   "cell_type": "code",
   "execution_count": 12,
   "metadata": {},
   "outputs": [],
   "source": [
    "# Load the environment variables.\n",
    "ENV_PATH = \"./../.env\"\n",
    "config = { \n",
    "    **dotenv_values(ENV_PATH + \".config\"),\n",
    "    **dotenv_values(ENV_PATH + \".secrets\"),\n",
    "    **os.environ,\n",
    "}"
   ]
  },
  {
   "cell_type": "markdown",
   "metadata": {},
   "source": [
    "You might notice I am really loading two files here. You should have two environment files:\n",
    "\n",
    "`.env.config` that contains the following:\n",
    "```.env\n",
    "LOOKUP_TABLE = \"edu.iste.disabilityresourcesearchengine.xlsx\"\n",
    "LOOKUP_SHEETS = \"disability_category,service_category,states,zipcodes\"\n",
    "\n",
    "OH_PROVIDERS = \"org.handson.ohio.serviceproviders.json\"\n",
    "NY_PROVIDERS = \"gov.nys.serviceproviders.xlsx\"\n",
    "CA_PROVIDERS = \"gov.ca.serviceproviders.xlsx\"\n",
    "```\n",
    "\n",
    "and `.env.secrets` that contains your authentication information:\n",
    "\n",
    "```dotenv\n",
    "DB_HOST = \"<ip address or hostname>\"\n",
    "DB_USER = \"<username>\"\n",
    "DB_PASS = \"<password>\"\n",
    "DB_PORT = <port>\n",
    "```"
   ]
  },
  {
   "cell_type": "code",
   "execution_count": 4,
   "metadata": {},
   "outputs": [],
   "source": [
    "# Get the MongoDB connection string.\n",
    "def get_connection_string(options):\n",
    "    hostname = urllib.parse.quote_plus(options['DB_HOST'])\n",
    "    username = urllib.parse.quote_plus(options['DB_USER'])\n",
    "    password = urllib.parse.quote_plus(options['DB_PASS'])\n",
    "    port = int(options['DB_PORT'])\n",
    "    return \"mongodb://%s:%s@%s:%d/?authSource=admin\" % (username, password, hostname, port)\n",
    "\n",
    "# If client doesn't exist, attempt to connect.\n",
    "try:\n",
    "    client\n",
    "except:\n",
    "    # Prepare MongoDB connection string.\n",
    "    uri = get_connection_string(config)\n",
    "    # Prepare MongoDB Client.\n",
    "    client = MongoClient(uri)"
   ]
  },
  {
   "cell_type": "code",
   "execution_count": 5,
   "metadata": {},
   "outputs": [
    {
     "data": {
      "text/plain": [
       "MongoClient(host=['mongodb.thelionsredmane.stream:27017'], document_class=dict, tz_aware=False, connect=True, authsource='admin')"
      ]
     },
     "execution_count": 5,
     "metadata": {},
     "output_type": "execute_result"
    }
   ],
   "source": [
    "# Display MongoDB client details.\n",
    "client"
   ]
  },
  {
   "cell_type": "code",
   "execution_count": 6,
   "metadata": {},
   "outputs": [
    {
     "data": {
      "text/plain": [
       "<pymongo.results.InsertOneResult at 0x21316426ac0>"
      ]
     },
     "execution_count": 6,
     "metadata": {},
     "output_type": "execute_result"
    }
   ],
   "source": [
    "# Databases and collections are lazily initialized: just refer to the one you want.\n",
    "test_db = client.test\n",
    "test_coll = test_db.test_coll\n",
    "\n",
    "# Documents do not enforce structure.\n",
    "test_entry = {\n",
    "    \"author\": \"Ian Effendi\",\n",
    "    \"text\": \"My first post!\",\n",
    "    \"tags\": [\"this\", \"is\", \"a\", \"entry\"],\n",
    "    \"date\": datetime.datetime.utcnow()\n",
    "}\n",
    "\n",
    "# Create collections (and their related databases) in the server, once you perform a write operation.\n",
    "response = test_coll.insert_one(test_entry)\n",
    "response"
   ]
  },
  {
   "cell_type": "code",
   "execution_count": 7,
   "metadata": {},
   "outputs": [
    {
     "data": {
      "text/plain": [
       "ObjectId('610998c6bb306080a74df7cd')"
      ]
     },
     "execution_count": 7,
     "metadata": {},
     "output_type": "execute_result"
    }
   ],
   "source": [
    "# Use the inserted_id property to get an ObjectId.\n",
    "response.inserted_id"
   ]
  },
  {
   "cell_type": "code",
   "execution_count": 8,
   "metadata": {},
   "outputs": [
    {
     "data": {
      "text/plain": [
       "['test_coll']"
      ]
     },
     "execution_count": 8,
     "metadata": {},
     "output_type": "execute_result"
    }
   ],
   "source": [
    "# See a list of collections on the server.\n",
    "test_db.list_collection_names()"
   ]
  },
  {
   "cell_type": "code",
   "execution_count": 9,
   "metadata": {},
   "outputs": [
    {
     "data": {
      "text/plain": [
       "{'_id': ObjectId('610990132bccf24343c9f52a'),\n",
       " 'author': 'Ian Effendi',\n",
       " 'text': 'My first post!',\n",
       " 'tags': ['this', 'is', 'a', 'entry'],\n",
       " 'date': datetime.datetime(2021, 8, 3, 18, 50, 59, 93000)}"
      ]
     },
     "execution_count": 9,
     "metadata": {},
     "output_type": "execute_result"
    }
   ],
   "source": [
    "# Use `find_one()` to query the database.\n",
    "test_coll.find_one()"
   ]
  }
 ],
 "metadata": {
  "interpreter": {
   "hash": "087b30356f453984ec1aab78624568fdc7bcbb37e695ca5de6de535e3d3c7bbe"
  },
  "kernelspec": {
   "display_name": "Python 3.9.5 64-bit ('data': conda)",
   "name": "python3"
  },
  "language_info": {
   "codemirror_mode": {
    "name": "ipython",
    "version": 3
   },
   "file_extension": ".py",
   "mimetype": "text/x-python",
   "name": "python",
   "nbconvert_exporter": "python",
   "pygments_lexer": "ipython3",
   "version": "3.9.5"
  }
 },
 "nbformat": 4,
 "nbformat_minor": 5
}