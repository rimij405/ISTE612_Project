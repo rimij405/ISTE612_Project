{
 "cells": [
  {
   "cell_type": "markdown",
   "id": "39b2595b-492e-489d-be3a-d8ccaaea9148",
   "metadata": {},
   "source": [
    "# Ingestion into MongoDB\n",
    "\n",
    "This notebook establishes the structure of models and how to properly ingest fields into a MongoDB database."
   ]
  },
  {
   "cell_type": "code",
   "execution_count": 1,
   "id": "4c8e8593-4386-4d0e-9d5f-b33ba234db65",
   "metadata": {},
   "outputs": [],
   "source": [
    "# Import system packages.\n",
    "import sys, os\n",
    "import urllib.parse\n",
    "import datetime\n",
    "import json\n",
    "\n",
    "# Import data processing tools\n",
    "import pandas as pd\n",
    "\n",
    "# Import MongoDB related packages.\n",
    "from pymongo import MongoClient\n",
    "from dotenv import dotenv_values\n",
    "from bson.objectid import ObjectId\n",
    "\n",
    "# Load the environment variables.\n",
    "ENV_PATH = \"./../.env\"\n",
    "config = { \n",
    "    **dotenv_values(ENV_PATH + \".config\"),\n",
    "    **dotenv_values(ENV_PATH + \".secrets\"),\n",
    "    **os.environ,\n",
    "}\n",
    "\n",
    "config['LOOKUP_SHEETS'] = config['LOOKUP_SHEETS'].split(',')"
   ]
  },
  {
   "cell_type": "code",
   "execution_count": 21,
   "id": "92c50b06-69a2-4487-a567-9e62d112fc37",
   "metadata": {},
   "outputs": [],
   "source": [
    "# Setup the Database class.\n",
    "\n",
    "\"\"\"\n",
    "Reference:\n",
    "https://medium.com/analytics-vidhya/setting-up-a-database-class-mongodb-for-interactions-in-python-6a16417cd58e\n",
    "\"\"\"\n",
    "\n",
    "class Database:\n",
    "    \n",
    "    CLIENT = None\n",
    "    DATABASE = None\n",
    "    \n",
    "    @staticmethod\n",
    "    def get_connection_string(options):\n",
    "        hostname = urllib.parse.quote_plus(options['DB_HOST'])\n",
    "        username = urllib.parse.quote_plus(options['DB_USER'])\n",
    "        password = urllib.parse.quote_plus(options['DB_PASS'])\n",
    "        port = int(options['DB_PORT'])\n",
    "        return \"mongodb://%s:%s@%s:%d/?authSource=admin\" % (username, password, hostname, port)\n",
    "    \n",
    "    @classmethod\n",
    "    def initialize(cls, options):\n",
    "        uri = Database.get_connection_string(options)\n",
    "        cls.CLIENT = MongoClient(uri)\n",
    "        if cls.CLIENT:\n",
    "            print(\"OK\")\n",
    "        return cls.CLIENT\n",
    "        \n",
    "    @classmethod\n",
    "    def use(cls, database):\n",
    "        cls.DATABASE = cls.CLIENT[database]\n",
    "        if cls.DATABASE:\n",
    "            print(\"OK\")\n",
    "        return cls.DATABASE\n",
    "        \n",
    "    @classmethod\n",
    "    def insert(cls, collection, data):\n",
    "        if cls.DATABASE:\n",
    "            cls.DATABASE[collection].insert(data)\n",
    "        else:\n",
    "            print(\"No database currently loaded.\")\n",
    "        \n",
    "    @classmethod\n",
    "    def find(cls, collection, query):\n",
    "        if cls.DATABASE:\n",
    "            return cls.DATABASE[collection].find(query)\n",
    "        else:\n",
    "            print(\"No database currently loaded.\")\n",
    "    \n",
    "    @classmethod\n",
    "    def find_one(cls, collection, query):\n",
    "        if cls.DATABASE:\n",
    "            return cls.DATABASE[collection].find_one(query)\n",
    "        else:\n",
    "            print(\"No database currently loaded.\")"
   ]
  },
  {
   "cell_type": "code",
   "execution_count": 22,
   "id": "41f65893-6ff5-4f0a-808b-675310c31cac",
   "metadata": {},
   "outputs": [
    {
     "name": "stdout",
     "output_type": "stream",
     "text": [
      "OK\n"
     ]
    },
    {
     "data": {
      "text/plain": [
       "MongoClient(host=['mongodb.thelionsredmane.stream:27017'], document_class=dict, tz_aware=False, connect=True, authsource='admin')"
      ]
     },
     "execution_count": 22,
     "metadata": {},
     "output_type": "execute_result"
    }
   ],
   "source": [
    "# Initialize and connect to the MongoDB client and show client details.\n",
    "Database.initialize(config)"
   ]
  },
  {
   "cell_type": "code",
   "execution_count": 23,
   "id": "0dfc48a3-ce42-4cf8-84b3-a1809fa0f3d7",
   "metadata": {},
   "outputs": [
    {
     "name": "stdout",
     "output_type": "stream",
     "text": [
      "OK\n"
     ]
    },
    {
     "data": {
      "text/plain": [
       "Database(MongoClient(host=['mongodb.thelionsredmane.stream:27017'], document_class=dict, tz_aware=False, connect=True, authsource='admin'), 'glossary')"
      ]
     },
     "execution_count": 23,
     "metadata": {},
     "output_type": "execute_result"
    }
   ],
   "source": [
    "# Use specific database and show details.\n",
    "Database.use(\"glossary\")"
   ]
  },
  {
   "cell_type": "markdown",
   "id": "c4457e53-602e-4380-bdc3-eea979f4b40c",
   "metadata": {},
   "source": [
    "## Glossary Database\n",
    "\n",
    "This section prepares the glossary database defined by the data inside `edu.iste.disabilityresourcesearchengine.xlsx`.\n",
    "\n",
    "The `glossary` database has the following collections:\n",
    "\n",
    "- `disability_category`\n",
    "- `service_category`\n",
    "- `states`\n",
    "- `zipcodes`"
   ]
  },
  {
   "cell_type": "code",
   "execution_count": 4,
   "id": "a64fe1bd-0ddc-453f-a35c-69c3c735ff17",
   "metadata": {},
   "outputs": [
    {
     "data": {
      "text/plain": [
       "{'cat': 'Ambulatory',\n",
       " 'desc': \"In the American Community Survey, individuals five or more years old who responded 'yes' when asked if they had serious difficulty walking or climbing stairs.\"}"
      ]
     },
     "execution_count": 4,
     "metadata": {},
     "output_type": "execute_result"
    }
   ],
   "source": [
    "# Prepare the data model for the disability and service categories.\n",
    "class Category:\n",
    "    def __init__(self, category, description):\n",
    "        self.category = category\n",
    "        self.description = description\n",
    "        \n",
    "    def data(self):\n",
    "        data = {\n",
    "            'cat': self.category,\n",
    "            'desc': self.description\n",
    "        }\n",
    "        return data\n",
    "    \n",
    "category = Category(\"Ambulatory\", \"In the American Community Survey, individuals five or more years old who responded 'yes' when asked if they had serious difficulty walking or climbing stairs.\")\n",
    "category.data()"
   ]
  },
  {
   "cell_type": "code",
   "execution_count": 5,
   "id": "6398635e-b3de-4c0d-b372-e25289f2fbc9",
   "metadata": {},
   "outputs": [
    {
     "data": {
      "text/plain": [
       "{'state': 'New York', 'abbr': 'N.Y.', 'pop': 19299981}"
      ]
     },
     "execution_count": 5,
     "metadata": {},
     "output_type": "execute_result"
    }
   ],
   "source": [
    "# Prepare the data model for the states.\n",
    "class State:\n",
    "    def __init__(self, state, abbreviation, code, population):\n",
    "        self.state = state\n",
    "        self.abbreviation = abbreviation\n",
    "        self.population = population\n",
    "        \n",
    "    def data(self):\n",
    "        data = {\n",
    "            'state': self.state,\n",
    "            'abbr': self.abbreviation,\n",
    "            'pop': self.population      \n",
    "        }\n",
    "        return data\n",
    "\n",
    "state = State(\"New York\", \"N.Y.\", \"NY\", 19299981)\n",
    "state.data()"
   ]
  },
  {
   "cell_type": "code",
   "execution_count": 6,
   "id": "be08d4bc-4a88-4304-84ad-7c37161c09f9",
   "metadata": {},
   "outputs": [
    {
     "data": {
      "text/plain": [
       "{'zip': 612, 'city': 'Arecibo', 'county': 'Arecibo', 'pop': 59369}"
      ]
     },
     "execution_count": 6,
     "metadata": {},
     "output_type": "execute_result"
    }
   ],
   "source": [
    "# Prepare the data model for the zipcodes.\n",
    "class Zipcode:\n",
    "    def __init__(self, zipcode, city, county, population):\n",
    "        self.zipcode = zipcode\n",
    "        self.city = city\n",
    "        self.county = county\n",
    "        self.population = population\n",
    "        \n",
    "    def data(self):\n",
    "        data = {\n",
    "            'zip': self.zipcode,\n",
    "            'city': self.city,\n",
    "            'county': self.county,\n",
    "            'pop': self.population            \n",
    "        }\n",
    "        return data\n",
    "\n",
    "zipcode = Zipcode(612, \"Arecibo\", \"Arecibo\", 59369)\n",
    "zipcode.data()"
   ]
  },
  {
   "cell_type": "code",
   "execution_count": 7,
   "id": "bc8b9818-f04a-4c18-a738-8db176af5d85",
   "metadata": {},
   "outputs": [],
   "source": [
    "# Preview pandas.DataFrame information.\n",
    "def preview(df):\n",
    "    if df is not None:\n",
    "        print(df.head())\n",
    "        print(df.tail())\n",
    "        print(df.info())"
   ]
  },
  {
   "cell_type": "code",
   "execution_count": 8,
   "id": "616b481e-49f8-4da5-be02-2ae89b49c8d6",
   "metadata": {},
   "outputs": [],
   "source": [
    "# Load in dataset for the lookup table.\n",
    "def load_sheet(filename, sheet, **settings):\n",
    "    df = None\n",
    "    with open(filename, \"rb\") as excel:\n",
    "        df = pd.read_excel(excel, sheet_name=sheet, **settings)\n",
    "    return df\n",
    "\n",
    "# Dictionary comprehension, with keys as the worksheets.\n",
    "filename = \"./../data/\" + config['LOOKUP_TABLE']\n",
    "sheets = [\n",
    "    'disability_category',\n",
    "    'service_category',\n",
    "    'states',\n",
    "    'zipcodes',\n",
    "]"
   ]
  },
  {
   "cell_type": "code",
   "execution_count": 9,
   "id": "33e8f0e0-17f8-41ee-b189-7aa36fdd9f88",
   "metadata": {},
   "outputs": [],
   "source": [
    "# Prepare glossary.\n",
    "glossary = {\n",
    "    'disabilities': load_sheet(filename, sheets[0], index_col=None, usecols=[0,1]),\n",
    "    'services': load_sheet(filename, sheets[1], index_col=None, usecols=[0,1]),\n",
    "    'states': load_sheet(filename, sheets[2], index_col=None, usecols=[0,1,2,3]),\n",
    "    'zipcodes': load_sheet(filename, sheets[3], index_col=None, usecols=[0,1,2,3]),\n",
    "}   "
   ]
  },
  {
   "cell_type": "code",
   "execution_count": 10,
   "id": "64d4d58a-0dda-4bde-9b24-5b55ff88dcef",
   "metadata": {},
   "outputs": [
    {
     "name": "stdout",
     "output_type": "stream",
     "text": [
      "<class 'pandas.core.frame.DataFrame'>\n",
      "RangeIndex: 7 entries, 0 to 6\n",
      "Data columns (total 2 columns):\n",
      " #   Column               Non-Null Count  Dtype \n",
      "---  ------               --------------  ----- \n",
      " 0   disability_category  7 non-null      object\n",
      " 1   definition           7 non-null      object\n",
      "dtypes: object(2)\n",
      "memory usage: 240.0+ bytes\n"
     ]
    }
   ],
   "source": [
    "glossary['disabilities'].info()"
   ]
  },
  {
   "cell_type": "code",
   "execution_count": 11,
   "id": "0a6cd10a-9f17-4d15-bf0b-c64e725bb437",
   "metadata": {},
   "outputs": [
    {
     "name": "stdout",
     "output_type": "stream",
     "text": [
      "<class 'pandas.core.frame.DataFrame'>\n",
      "RangeIndex: 7 entries, 0 to 6\n",
      "Data columns (total 2 columns):\n",
      " #   Column       Non-Null Count  Dtype \n",
      "---  ------       --------------  ----- \n",
      " 0   category     7 non-null      object\n",
      " 1   description  7 non-null      object\n",
      "dtypes: object(2)\n",
      "memory usage: 240.0+ bytes\n"
     ]
    }
   ],
   "source": [
    "glossary['services'].info()"
   ]
  },
  {
   "cell_type": "code",
   "execution_count": 12,
   "id": "89799320-6841-4594-8f22-c13e1c76fe78",
   "metadata": {},
   "outputs": [
    {
     "name": "stdout",
     "output_type": "stream",
     "text": [
      "<class 'pandas.core.frame.DataFrame'>\n",
      "RangeIndex: 51 entries, 0 to 50\n",
      "Data columns (total 4 columns):\n",
      " #   Column      Non-Null Count  Dtype \n",
      "---  ------      --------------  ----- \n",
      " 0   State       51 non-null     object\n",
      " 1   Abbrev      51 non-null     object\n",
      " 2   Code        51 non-null     object\n",
      " 3   Population  51 non-null     int64 \n",
      "dtypes: int64(1), object(3)\n",
      "memory usage: 1.7+ KB\n"
     ]
    }
   ],
   "source": [
    "glossary['states'].info()"
   ]
  },
  {
   "cell_type": "code",
   "execution_count": 13,
   "id": "c1f858e1-4985-40f4-bbb9-07963698d84f",
   "metadata": {},
   "outputs": [
    {
     "name": "stdout",
     "output_type": "stream",
     "text": [
      "<class 'pandas.core.frame.DataFrame'>\n",
      "RangeIndex: 500 entries, 0 to 499\n",
      "Data columns (total 4 columns):\n",
      " #   Column      Non-Null Count  Dtype \n",
      "---  ------      --------------  ----- \n",
      " 0   Zipcode     500 non-null    int64 \n",
      " 1   City        500 non-null    object\n",
      " 2   County      500 non-null    object\n",
      " 3   Population  500 non-null    int64 \n",
      "dtypes: int64(2), object(2)\n",
      "memory usage: 15.8+ KB\n"
     ]
    }
   ],
   "source": [
    "glossary['zipcodes'].info()"
   ]
  },
  {
   "cell_type": "markdown",
   "id": "fb6b88b2-6fd8-4a22-bd03-003c287bc7f5",
   "metadata": {},
   "source": [
    "## Ingest to the Database\n",
    "\n",
    "Loaded data can be ingested into the MongoDB instance."
   ]
  },
  {
   "cell_type": "code",
   "execution_count": 25,
   "id": "cc12eec4-0de8-4615-a71c-3e0a7c27b06a",
   "metadata": {},
   "outputs": [
    {
     "data": {
      "text/plain": [
       "'\\nReference:\\nhttps://www.datasciencelearner.com/insert-pandas-dataframe-into-mongodb/\\n'"
      ]
     },
     "execution_count": 25,
     "metadata": {},
     "output_type": "execute_result"
    }
   ],
   "source": [
    "# Export collections to the glossary database.\n",
    "\"\"\"\n",
    "Reference:\n",
    "https://www.datasciencelearner.com/insert-pandas-dataframe-into-mongodb/\n",
    "\"\"\"\n",
    "\n",
    "# "
   ]
  },
  {
   "cell_type": "code",
   "execution_count": null,
   "id": "e12da61b-f81e-4a52-8cb5-7b2e87aa8127",
   "metadata": {},
   "outputs": [],
   "source": []
  }
 ],
 "metadata": {
  "kernelspec": {
   "display_name": "Python 3",
   "language": "python",
   "name": "python3"
  },
  "language_info": {
   "codemirror_mode": {
    "name": "ipython",
    "version": 3
   },
   "file_extension": ".py",
   "mimetype": "text/x-python",
   "name": "python",
   "nbconvert_exporter": "python",
   "pygments_lexer": "ipython3",
   "version": "3.9.5"
  }
 },
 "nbformat": 4,
 "nbformat_minor": 5
}
